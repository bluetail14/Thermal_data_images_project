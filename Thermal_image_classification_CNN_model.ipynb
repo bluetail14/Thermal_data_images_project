{
 "cells": [
  {
   "cell_type": "code",
   "execution_count": 1,
   "id": "ab7d4b01",
   "metadata": {},
   "outputs": [],
   "source": [
    "import numpy as np\n",
    "import pandas as pd\n",
    "import os\n",
    "import pickle\n",
    "import cv2\n",
    "\n",
    "import tensorflow as tf\n",
    "from tensorflow import keras\n",
    "from tensorflow.keras import datasets, layers, models\n",
    "from tensorflow.keras.callbacks import EarlyStopping, ModelCheckpoint\n",
    "\n",
    "from keras.models import Sequential, load_model\n",
    "from keras.layers.core import Dense, Activation\n",
    "\n",
    "from keras.applications.vgg16 import VGG16\n",
    "from keras.layers import Dropout, Flatten, Input\n",
    "from keras.layers.convolutional import Conv2D, MaxPooling2D\n",
    "from keras.models import Model\n",
    "\n",
    "from tensorflow.keras.optimizers import Adam, SGD \n",
    "from keras.optimizers import gradient_descent_v2 \n",
    "\n",
    "from matplotlib import pyplot as plt\n",
    "%matplotlib inline"
   ]
  },
  {
   "cell_type": "code",
   "execution_count": null,
   "id": "05871470",
   "metadata": {},
   "outputs": [],
   "source": []
  },
  {
   "cell_type": "code",
   "execution_count": 2,
   "id": "7df8f1be",
   "metadata": {},
   "outputs": [],
   "source": [
    "path_train = \"../SeekThermal/Train\"\n",
    "path_test = \"../SeekThermal/Test\""
   ]
  },
  {
   "cell_type": "code",
   "execution_count": null,
   "id": "60edc31f",
   "metadata": {},
   "outputs": [],
   "source": []
  },
  {
   "cell_type": "markdown",
   "id": "7bca5179",
   "metadata": {},
   "source": [
    "### Defining the class to load images   "
   ]
  },
  {
   "cell_type": "code",
   "execution_count": 3,
   "id": "27a2aa12",
   "metadata": {},
   "outputs": [],
   "source": [
    "class MasterImage0(object):\n",
    "\n",
    "    def __init__(self,PATH='', IMAGE_SIZE = 128):\n",
    "        self.PATH = PATH\n",
    "        self.IMAGE_SIZE = IMAGE_SIZE\n",
    "\n",
    "        self.image_data = []\n",
    "        self.x_data = []\n",
    "        self.y_data = []\n",
    "        self.CATEGORIES = []\n",
    "\n",
    "        # This will get List of categories\n",
    "        self.list_categories = []\n",
    "\n",
    "    def get_categories(self):\n",
    "        for path in os.listdir(self.PATH):\n",
    "            if '.DS_Store' in path:\n",
    "                pass\n",
    "            else:\n",
    "                self.list_categories.append(path)\n",
    "        print(\"Found Categories \",self.list_categories,'\\n')\n",
    "        return self.list_categories\n",
    "\n",
    "    def process_image(self):\n",
    "        try:\n",
    "            \"\"\"\n",
    "            Return Numpy array of image\n",
    "            :return: X_Data, Y_Data\n",
    "            \"\"\"\n",
    "            self.CATEGORIES = self.get_categories()\n",
    "            for categories in self.CATEGORIES:                                                  # Iterate over categories\n",
    "\n",
    "                train_folder_path = os.path.join(self.PATH, categories)                         # Folder Path\n",
    "                class_index = self.CATEGORIES.index(categories)                                 # this will get index for classification\n",
    "\n",
    "                for img in os.listdir(train_folder_path):                                       # This will iterate in the Folder\n",
    "                    new_path = os.path.join(train_folder_path, img)                             # image Path\n",
    "\n",
    "                    try:        # if any image is corrupted\n",
    "                        image_data_temp = cv2.imread(new_path)                 # Read Image as numbers\n",
    "                        image_temp_resize = cv2.resize(image_data_temp,(self.IMAGE_SIZE,self.IMAGE_SIZE))\n",
    "                        self.image_data.append([image_temp_resize,class_index])\n",
    "                        random.shuffle(self.image_data)\n",
    "                    except:\n",
    "                        pass\n",
    "\n",
    "            data = np.asanyarray(self.image_data)\n",
    "\n",
    "            # Iterate over the Data\n",
    "            for x in data:\n",
    "                self.x_data.append(x[0])        # Get the X_Data\n",
    "                self.y_data.append(x[1])        # get the label\n",
    "\n",
    "            X_Data = np.asarray(self.x_data) / (255.0)      # Normalize Data\n",
    "            Y_Data = np.asarray(self.y_data)\n",
    "            \n",
    "            # reshape x_Data\n",
    "\n",
    "            X_Data = X_Data.reshape(-1, self.IMAGE_SIZE, self.IMAGE_SIZE, 3)\n",
    "            print(\"Compiled X_data\", self.X_data)\n",
    "            return X_Data, Y_Data\n",
    "        except:\n",
    "            print(\"Failed to run Function Process Image \")\n",
    "\n",
    "    def pickle_image(self):\n",
    "\n",
    "        \"\"\"\n",
    "        :return: None Creates a Pickle Object of DataSet\n",
    "        \"\"\"\n",
    "        # Call the Function and Get the Data\n",
    "        X_Data,Y_Data = self.process_image()\n",
    "\n",
    "        # Write the Entire Data into a Pickle File\n",
    "        pickle_out = open('X_Data','wb')\n",
    "        pickle.dump(X_Data, pickle_out)\n",
    "        pickle_out.close()\n",
    "\n",
    "        # Write the Y Label Data\n",
    "        pickle_out = open('Y_Data', 'wb')\n",
    "        pickle.dump(Y_Data, pickle_out)\n",
    "        pickle_out.close()\n",
    "\n",
    "        print(\"Pickled Image Successfully \")\n",
    "        return X_Data,Y_Data\n",
    "        print(self.X_Data)\n",
    "\n",
    "    def load_dataset(self):\n",
    "\n",
    "        try:\n",
    "            # Read the Data from Pickle Object\n",
    "            X_Temp = open('..\\SeekThermal\\X_Data','rb')\n",
    "            X_Data = pickle.load(X_Temp)\n",
    "\n",
    "            Y_Temp = open('..\\SeekThermal\\Y_Data','rb')\n",
    "            Y_Data = pickle.load(Y_Temp)\n",
    "\n",
    "            print('Reading Dataset from Pickle Object')\n",
    "\n",
    "            return X_Data,Y_Data\n",
    "\n",
    "        except:\n",
    "            print('Could not Found Pickle File ')\n",
    "            print('Loading File and Dataset  ..........')\n",
    "\n",
    "            X_Data,Y_Data = self.pickle_image()\n",
    "            print(\"X_data\", self.X_Data)\n",
    "            return X_Data,Y_Data\n",
    "        "
   ]
  },
  {
   "cell_type": "markdown",
   "id": "61b1cd22",
   "metadata": {},
   "source": [
    "### Train data"
   ]
  },
  {
   "cell_type": "code",
   "execution_count": 4,
   "id": "d9f98c1a",
   "metadata": {},
   "outputs": [
    {
     "data": {
      "text/plain": [
       "<__main__.MasterImage0 at 0x1a9f7792ca0>"
      ]
     },
     "execution_count": 4,
     "metadata": {},
     "output_type": "execute_result"
    }
   ],
   "source": [
    "a = MasterImage0(PATH = path_train,IMAGE_SIZE = 128)\n",
    "a"
   ]
  },
  {
   "cell_type": "code",
   "execution_count": 5,
   "id": "aa3bf74f",
   "metadata": {},
   "outputs": [
    {
     "name": "stdout",
     "output_type": "stream",
     "text": [
      "Found Categories  ['Car', 'Cat', 'Man'] \n",
      "\n"
     ]
    },
    {
     "data": {
      "text/plain": [
       "['Car', 'Cat', 'Man']"
      ]
     },
     "execution_count": 5,
     "metadata": {},
     "output_type": "execute_result"
    }
   ],
   "source": [
    "a.get_categories()"
   ]
  },
  {
   "cell_type": "code",
   "execution_count": 59,
   "id": "bf6addc4",
   "metadata": {},
   "outputs": [],
   "source": [
    "#a.load_dataset()"
   ]
  },
  {
   "cell_type": "code",
   "execution_count": 7,
   "id": "9f95e2a2",
   "metadata": {},
   "outputs": [
    {
     "name": "stdout",
     "output_type": "stream",
     "text": [
      "Reading Dataset from Pickle Object\n"
     ]
    }
   ],
   "source": [
    "(train_images, train_labels) = a.load_dataset()"
   ]
  },
  {
   "cell_type": "code",
   "execution_count": 9,
   "id": "75651bf5",
   "metadata": {},
   "outputs": [
    {
     "name": "stdout",
     "output_type": "stream",
     "text": [
      "(4732, 100, 100, 3) (4732,)\n"
     ]
    }
   ],
   "source": [
    "print(train_images.shape, train_labels.shape)"
   ]
  },
  {
   "cell_type": "code",
   "execution_count": 8,
   "id": "266a9858",
   "metadata": {},
   "outputs": [
    {
     "data": {
      "text/plain": [
       "array([0, 0, 0, ..., 2, 2, 2])"
      ]
     },
     "execution_count": 8,
     "metadata": {},
     "output_type": "execute_result"
    }
   ],
   "source": [
    "train_labels"
   ]
  },
  {
   "cell_type": "code",
   "execution_count": 10,
   "id": "b47c9884",
   "metadata": {},
   "outputs": [
    {
     "data": {
      "text/plain": [
       "array([0, 1, 2])"
      ]
     },
     "execution_count": 10,
     "metadata": {},
     "output_type": "execute_result"
    }
   ],
   "source": [
    "# 3 categories - Car, Cat and Man\n",
    "np.unique(train_labels)"
   ]
  },
  {
   "cell_type": "code",
   "execution_count": null,
   "id": "4e1d1415",
   "metadata": {},
   "outputs": [],
   "source": []
  },
  {
   "cell_type": "markdown",
   "id": "3fc3973b",
   "metadata": {},
   "source": [
    "### Test data"
   ]
  },
  {
   "cell_type": "code",
   "execution_count": 11,
   "id": "29802e5a",
   "metadata": {},
   "outputs": [],
   "source": [
    "class MasterImage1(object):\n",
    "\n",
    "    def __init__(self,PATH='', IMAGE_SIZE = 300):\n",
    "        self.PATH = PATH\n",
    "        self.IMAGE_SIZE = IMAGE_SIZE\n",
    "\n",
    "        self.image_data = []\n",
    "        self.x_data = []\n",
    "        self.y_data = []\n",
    "        self.CATEGORIES = []\n",
    "\n",
    "        # This will get List of categories\n",
    "        self.list_categories = []\n",
    "\n",
    "    def get_categories(self):\n",
    "        for path in os.listdir(self.PATH):\n",
    "            if '.DS_Store' in path:\n",
    "                pass\n",
    "            else:\n",
    "                self.list_categories.append(path)\n",
    "        print(\"Found Categories \",self.list_categories,'\\n')\n",
    "        return self.list_categories\n",
    "\n",
    "    def process_image(self):\n",
    "        try:\n",
    "            \"\"\"\n",
    "            Return Numpy array of image\n",
    "            :return: X_Data, Y_Data\n",
    "            \"\"\"\n",
    "            self.CATEGORIES = self.get_categories()\n",
    "            for categories in self.CATEGORIES:                                                  # Iterate over categories\n",
    "\n",
    "                train_folder_path = os.path.join(self.PATH, categories)                         # Folder Path\n",
    "                class_index = self.CATEGORIES.index(categories)                                 # this will get index for classification\n",
    "\n",
    "                for img in os.listdir(train_folder_path):                                       # This will iterate in the Folder\n",
    "                    new_path = os.path.join(train_folder_path, img)                             # image Path\n",
    "\n",
    "                    try:        # if any image is corrupted\n",
    "                        image_data_temp = cv2.imread(new_path)                 # Read Image as numbers\n",
    "                        image_temp_resize = cv2.resize(image_data_temp,(self.IMAGE_SIZE,self.IMAGE_SIZE))\n",
    "                        self.image_data.append([image_temp_resize,class_index])\n",
    "                        random.shuffle(self.image_data)\n",
    "                    except:\n",
    "                        pass\n",
    "\n",
    "            data = np.asanyarray(self.image_data)\n",
    "\n",
    "            # Iterate over the Data\n",
    "            for x in data:\n",
    "                self.x_data.append(x[0])        # Get the X_Data\n",
    "                self.y_data.append(x[1])        # get the label\n",
    "\n",
    "            X_Data = np.asarray(self.x_data) / (255.0)      # Normalize Data\n",
    "            Y_Data = np.asarray(self.y_data)\n",
    "\n",
    "            # reshape x_Data\n",
    "\n",
    "            X_Data = X_Data.reshape(-1, self.IMAGE_SIZE, self.IMAGE_SIZE, 3)\n",
    "\n",
    "            return X_Data, Y_Data\n",
    "        except:\n",
    "            print(\"Failed to run Function Process Image \")\n",
    "\n",
    "    def pickle_image(self):\n",
    "\n",
    "        \"\"\"\n",
    "        :return: None Creates a Pickle Object of DataSet\n",
    "        \"\"\"\n",
    "        # Call the Function and Get the Data\n",
    "        X_Data,Y_Data = self.process_image()\n",
    "\n",
    "        # Write the Entire Data into a Pickle File\n",
    "        pickle_out = open('X1_Data','wb')\n",
    "        pickle.dump(X_Data, pickle_out)\n",
    "        pickle_out.close()\n",
    "\n",
    "        # Write the Y Label Data\n",
    "        pickle_out = open('Y1_Data', 'wb')\n",
    "        pickle.dump(Y_Data, pickle_out)\n",
    "        pickle_out.close()\n",
    "\n",
    "        print(\"Pickled Image Successfully \")\n",
    "        return X_Data,Y_Data\n",
    "\n",
    "    def load_dataset(self):\n",
    "\n",
    "        try:\n",
    "            # Read the Data from Pickle Object\n",
    "            X_Temp = open('..\\SeekThermal\\X1_Data','rb')\n",
    "            X_Data = pickle.load(X_Temp)\n",
    "\n",
    "            Y_Temp = open('..\\SeekThermal\\Y1_Data','rb')\n",
    "            Y_Data = pickle.load(Y_Temp)\n",
    "\n",
    "            print('Reading Dataset from Pickle Object')\n",
    "\n",
    "            return X_Data,Y_Data\n",
    "\n",
    "        except:\n",
    "            print('Could not Found Pickle File ')\n",
    "            print('Loading File and Dataset  ..........')\n",
    "\n",
    "            X_Data,Y_Data = self.pickle_image()\n",
    "            return X_Data,Y_Data"
   ]
  },
  {
   "cell_type": "code",
   "execution_count": 12,
   "id": "2e61d957",
   "metadata": {},
   "outputs": [
    {
     "data": {
      "text/plain": [
       "<__main__.MasterImage1 at 0x1a9860d53a0>"
      ]
     },
     "execution_count": 12,
     "metadata": {},
     "output_type": "execute_result"
    }
   ],
   "source": [
    "b = MasterImage1(PATH = path_test, IMAGE_SIZE = 128)\n",
    "b"
   ]
  },
  {
   "cell_type": "code",
   "execution_count": 13,
   "id": "db27c299",
   "metadata": {},
   "outputs": [
    {
     "name": "stdout",
     "output_type": "stream",
     "text": [
      "Reading Dataset from Pickle Object\n"
     ]
    }
   ],
   "source": [
    "(test_images, test_labels) = b.load_dataset()"
   ]
  },
  {
   "cell_type": "code",
   "execution_count": 14,
   "id": "35bcd78e",
   "metadata": {},
   "outputs": [
    {
     "data": {
      "text/plain": [
       "(1068, 100, 100, 3)"
      ]
     },
     "execution_count": 14,
     "metadata": {},
     "output_type": "execute_result"
    }
   ],
   "source": [
    "test_images.shape"
   ]
  },
  {
   "cell_type": "code",
   "execution_count": 15,
   "id": "9fe1f6fe",
   "metadata": {},
   "outputs": [
    {
     "data": {
      "text/plain": [
       "array([0, 0, 0, ..., 2, 2, 2])"
      ]
     },
     "execution_count": 15,
     "metadata": {},
     "output_type": "execute_result"
    }
   ],
   "source": [
    "test_labels"
   ]
  },
  {
   "cell_type": "code",
   "execution_count": 16,
   "id": "776b355a",
   "metadata": {},
   "outputs": [
    {
     "data": {
      "text/plain": [
       "array([0, 1, 2])"
      ]
     },
     "execution_count": 16,
     "metadata": {},
     "output_type": "execute_result"
    }
   ],
   "source": [
    "# 3 label categories\n",
    "\n",
    "np.unique(test_labels)"
   ]
  },
  {
   "cell_type": "markdown",
   "id": "c3d902ed",
   "metadata": {},
   "source": [
    "### Defining the Man images category as '1' vs  Car and Cat as '0'"
   ]
  },
  {
   "cell_type": "code",
   "execution_count": 17,
   "id": "f039504d",
   "metadata": {},
   "outputs": [
    {
     "data": {
      "text/plain": [
       "array([0, 0, 0, ..., 2, 2, 2])"
      ]
     },
     "execution_count": 17,
     "metadata": {},
     "output_type": "execute_result"
    }
   ],
   "source": [
    "### Defining Man as 1 vs the other categories\n",
    "test_labels_binary0 = np.where(test_labels==1, 0, test_labels) \n",
    "test_labels_binary0"
   ]
  },
  {
   "cell_type": "code",
   "execution_count": 18,
   "id": "c60f5449",
   "metadata": {},
   "outputs": [
    {
     "data": {
      "text/plain": [
       "array([0, 1])"
      ]
     },
     "execution_count": 18,
     "metadata": {},
     "output_type": "execute_result"
    }
   ],
   "source": [
    "test_labels_binary = np.where(test_labels==2, 1, test_labels_binary0)\n",
    "\n",
    "np.unique(test_labels_binary)"
   ]
  },
  {
   "cell_type": "code",
   "execution_count": 19,
   "id": "34c6f12a",
   "metadata": {},
   "outputs": [
    {
     "data": {
      "text/plain": [
       "array([0, 0, 0, ..., 2, 2, 2])"
      ]
     },
     "execution_count": 19,
     "metadata": {},
     "output_type": "execute_result"
    }
   ],
   "source": [
    "### Man\n",
    "train_labels_binary0 = np.where(train_labels==1, 0, train_labels) \n",
    "train_labels_binary0"
   ]
  },
  {
   "cell_type": "code",
   "execution_count": 20,
   "id": "4b2babcc",
   "metadata": {},
   "outputs": [
    {
     "data": {
      "text/plain": [
       "array([0, 0, 0, ..., 1, 1, 1])"
      ]
     },
     "execution_count": 20,
     "metadata": {},
     "output_type": "execute_result"
    }
   ],
   "source": [
    "train_labels_binary = np.where(train_labels==2, 1, train_labels_binary0)\n",
    "\n",
    "train_labels_binary "
   ]
  },
  {
   "cell_type": "code",
   "execution_count": null,
   "id": "93e4f0bf",
   "metadata": {},
   "outputs": [],
   "source": []
  },
  {
   "cell_type": "markdown",
   "id": "f8a73f23",
   "metadata": {},
   "source": [
    "### Defining Train and Test images"
   ]
  },
  {
   "cell_type": "code",
   "execution_count": 21,
   "id": "32e4b1a1",
   "metadata": {},
   "outputs": [],
   "source": [
    "test_labels_binary = test_labels_binary.reshape(test_labels_binary.shape[0],1)\n",
    "train_labels_binary = train_labels_binary.reshape(train_labels_binary.shape[0],1)"
   ]
  },
  {
   "cell_type": "code",
   "execution_count": 22,
   "id": "a87f371e",
   "metadata": {},
   "outputs": [
    {
     "name": "stdout",
     "output_type": "stream",
     "text": [
      "Train: X_images=(4732, 100, 100, 3), y_labels=(4732, 1)\n",
      "Test: X_images=(1068, 100, 100, 3), y_labels=(1068, 1)\n"
     ]
    }
   ],
   "source": [
    "# Dataset shapes\n",
    "print('Train: X_images=%s, y_labels=%s' % (train_images.shape, train_labels_binary.shape))\n",
    "print('Test: X_images=%s, y_labels=%s' % (test_images.shape, test_labels_binary.shape))"
   ]
  },
  {
   "cell_type": "code",
   "execution_count": 23,
   "id": "8fe73581",
   "metadata": {},
   "outputs": [],
   "source": [
    "# Setting 17% of the training set as a validation set\n",
    "\n",
    "#validation set\n",
    "X_val_images = train_images[-800:]\n",
    "y_val_labels = train_labels_binary[-800:]\n",
    "\n",
    "#training set\n",
    "X_train_images = train_images[:-800]\n",
    "y_train_labels = train_labels_binary[:-800]"
   ]
  },
  {
   "cell_type": "code",
   "execution_count": 24,
   "id": "6e0575b3",
   "metadata": {},
   "outputs": [
    {
     "name": "stdout",
     "output_type": "stream",
     "text": [
      "Train: X_train_images=(3932, 100, 100, 3), y_train_labels=(3932, 1)\n",
      "Validation: X_val_images=(800, 100, 100, 3), y_val_labels=(800, 1)\n"
     ]
    }
   ],
   "source": [
    "print('Train: X_train_images=%s, y_train_labels=%s' % (X_train_images.shape, y_train_labels.shape))\n",
    "print('Validation: X_val_images=%s, y_val_labels=%s' % (X_val_images.shape, y_val_labels.shape))\n"
   ]
  },
  {
   "cell_type": "code",
   "execution_count": null,
   "id": "4d07c499",
   "metadata": {},
   "outputs": [],
   "source": []
  },
  {
   "cell_type": "markdown",
   "id": "feaae430",
   "metadata": {},
   "source": [
    "### CNN Model"
   ]
  },
  {
   "cell_type": "code",
   "execution_count": 25,
   "id": "dec82542",
   "metadata": {},
   "outputs": [
    {
     "data": {
      "text/plain": [
       "(100, 100, 3)"
      ]
     },
     "execution_count": 25,
     "metadata": {},
     "output_type": "execute_result"
    }
   ],
   "source": [
    "input_shape = X_train_images.shape[1:]\n",
    "input_shape"
   ]
  },
  {
   "cell_type": "code",
   "execution_count": 26,
   "id": "e82de3fa",
   "metadata": {},
   "outputs": [
    {
     "name": "stdout",
     "output_type": "stream",
     "text": [
      "Model: \"sequential\"\n",
      "_________________________________________________________________\n",
      "Layer (type)                 Output Shape              Param #   \n",
      "=================================================================\n",
      "conv2d (Conv2D)              (None, 100, 100, 32)      2432      \n",
      "_________________________________________________________________\n",
      "conv2d_1 (Conv2D)            (None, 100, 100, 128)     36992     \n",
      "_________________________________________________________________\n",
      "max_pooling2d (MaxPooling2D) (None, 50, 50, 128)       0         \n",
      "_________________________________________________________________\n",
      "flatten (Flatten)            (None, 320000)            0         \n",
      "_________________________________________________________________\n",
      "dense (Dense)                (None, 128)               40960128  \n",
      "_________________________________________________________________\n",
      "dense_1 (Dense)              (None, 1)                 129       \n",
      "=================================================================\n",
      "Total params: 40,999,681\n",
      "Trainable params: 40,999,681\n",
      "Non-trainable params: 0\n",
      "_________________________________________________________________\n"
     ]
    }
   ],
   "source": [
    "# Define the model  - no regularisation - basic\n",
    "cnn_model = tf.keras.Sequential([\n",
    "    Conv2D(32, (5,5), padding = 'same', activation = 'relu', input_shape =(input_shape)),\n",
    "#    Conv2D(64, (5,5), padding = 'same', activation = 'relu', input_shape =(input_shape)),\n",
    "#    MaxPooling2D(2,2),\n",
    "#    Dropout(0.1),\n",
    "    Conv2D(128, (3,3), padding = 'same', activation = 'relu', input_shape =(input_shape)),\n",
    "    MaxPooling2D(2,2),\n",
    "    Flatten(),\n",
    "    Dense(128, activation = 'relu'),\n",
    "    Dense(1, activation = \"sigmoid\"),                       \n",
    "\n",
    "])\n",
    "\n",
    "cnn_model.summary()"
   ]
  },
  {
   "cell_type": "code",
   "execution_count": 27,
   "id": "e1bc2720",
   "metadata": {},
   "outputs": [],
   "source": [
    "# Compile the model\n",
    "cnn_model.compile(loss='binary_crossentropy',optimizer=tf.keras.optimizers.Adam(learning_rate=0.001),metrics=['accuracy'])"
   ]
  },
  {
   "cell_type": "code",
   "execution_count": 28,
   "id": "2f99a4a7",
   "metadata": {},
   "outputs": [
    {
     "name": "stdout",
     "output_type": "stream",
     "text": [
      "Epoch 1/100\n",
      "123/123 - 11s - loss: 0.5635 - accuracy: 0.8644 - val_loss: 0.6123 - val_accuracy: 0.7962\n",
      "Epoch 2/100\n",
      "123/123 - 4s - loss: 0.0908 - accuracy: 0.9687 - val_loss: 0.5491 - val_accuracy: 0.8350\n",
      "Epoch 3/100\n",
      "123/123 - 4s - loss: 0.0506 - accuracy: 0.9830 - val_loss: 1.1900 - val_accuracy: 0.7600\n",
      "Epoch 4/100\n",
      "123/123 - 4s - loss: 0.0333 - accuracy: 0.9860 - val_loss: 0.7873 - val_accuracy: 0.8188\n",
      "Epoch 5/100\n",
      "123/123 - 4s - loss: 0.0146 - accuracy: 0.9957 - val_loss: 0.9659 - val_accuracy: 0.7912\n",
      "Epoch 6/100\n",
      "123/123 - 4s - loss: 0.0160 - accuracy: 0.9959 - val_loss: 1.9601 - val_accuracy: 0.7038\n",
      "Epoch 7/100\n",
      "123/123 - 4s - loss: 0.0138 - accuracy: 0.9964 - val_loss: 1.8529 - val_accuracy: 0.7425\n",
      "Epoch 8/100\n",
      "123/123 - 4s - loss: 0.0072 - accuracy: 0.9985 - val_loss: 2.0914 - val_accuracy: 0.7538\n",
      "Epoch 9/100\n",
      "123/123 - 4s - loss: 0.0073 - accuracy: 0.9985 - val_loss: 1.5827 - val_accuracy: 0.7950\n",
      "Epoch 10/100\n",
      "123/123 - 4s - loss: 0.0106 - accuracy: 0.9972 - val_loss: 1.5697 - val_accuracy: 0.7725\n",
      "Epoch 11/100\n",
      "123/123 - 4s - loss: 0.0095 - accuracy: 0.9969 - val_loss: 3.5669 - val_accuracy: 0.6450\n",
      "Epoch 12/100\n",
      "123/123 - 4s - loss: 0.0113 - accuracy: 0.9975 - val_loss: 1.4820 - val_accuracy: 0.7900\n",
      "Epoch 13/100\n",
      "123/123 - 4s - loss: 0.0067 - accuracy: 0.9985 - val_loss: 2.5104 - val_accuracy: 0.7163\n",
      "Epoch 14/100\n",
      "123/123 - 4s - loss: 0.0035 - accuracy: 0.9995 - val_loss: 2.0123 - val_accuracy: 0.7437\n",
      "Epoch 15/100\n",
      "123/123 - 4s - loss: 0.0043 - accuracy: 0.9995 - val_loss: 1.5383 - val_accuracy: 0.7775\n",
      "Epoch 16/100\n",
      "123/123 - 4s - loss: 0.0044 - accuracy: 0.9990 - val_loss: 1.5338 - val_accuracy: 0.7600\n",
      "Epoch 17/100\n",
      "123/123 - 4s - loss: 0.0022 - accuracy: 0.9992 - val_loss: 1.9254 - val_accuracy: 0.7600\n",
      "Epoch 18/100\n",
      "123/123 - 4s - loss: 0.0032 - accuracy: 0.9992 - val_loss: 1.4371 - val_accuracy: 0.7887\n",
      "Epoch 19/100\n",
      "123/123 - 4s - loss: 0.0025 - accuracy: 0.9992 - val_loss: 1.9265 - val_accuracy: 0.7262\n",
      "Epoch 20/100\n",
      "123/123 - 4s - loss: 0.0017 - accuracy: 0.9995 - val_loss: 1.7885 - val_accuracy: 0.7713\n",
      "Epoch 21/100\n",
      "123/123 - 4s - loss: 0.0016 - accuracy: 0.9995 - val_loss: 2.1808 - val_accuracy: 0.7237\n",
      "Epoch 22/100\n",
      "123/123 - 4s - loss: 0.0019 - accuracy: 0.9995 - val_loss: 1.2291 - val_accuracy: 0.8200\n",
      "Epoch 23/100\n",
      "123/123 - 4s - loss: 0.0032 - accuracy: 0.9990 - val_loss: 1.4636 - val_accuracy: 0.7900\n",
      "Epoch 24/100\n",
      "123/123 - 4s - loss: 0.0017 - accuracy: 0.9995 - val_loss: 1.9369 - val_accuracy: 0.7400\n",
      "Epoch 25/100\n",
      "123/123 - 4s - loss: 0.0034 - accuracy: 0.9992 - val_loss: 1.5372 - val_accuracy: 0.7837\n",
      "Epoch 26/100\n",
      "123/123 - 4s - loss: 0.0021 - accuracy: 0.9990 - val_loss: 1.7033 - val_accuracy: 0.7462\n",
      "Epoch 27/100\n",
      "123/123 - 4s - loss: 0.0020 - accuracy: 0.9990 - val_loss: 1.6116 - val_accuracy: 0.7887\n",
      "Epoch 28/100\n",
      "123/123 - 4s - loss: 0.0023 - accuracy: 0.9992 - val_loss: 1.4552 - val_accuracy: 0.7638\n",
      "Epoch 29/100\n",
      "123/123 - 4s - loss: 0.0023 - accuracy: 0.9990 - val_loss: 1.3595 - val_accuracy: 0.8025\n",
      "Epoch 30/100\n",
      "123/123 - 4s - loss: 0.0018 - accuracy: 0.9992 - val_loss: 1.7952 - val_accuracy: 0.7538\n",
      "Epoch 31/100\n",
      "123/123 - 4s - loss: 0.0015 - accuracy: 0.9990 - val_loss: 1.3089 - val_accuracy: 0.8138\n",
      "Epoch 32/100\n",
      "123/123 - 4s - loss: 0.0019 - accuracy: 0.9990 - val_loss: 1.7159 - val_accuracy: 0.7588\n",
      "Epoch 33/100\n",
      "123/123 - 4s - loss: 0.0015 - accuracy: 0.9992 - val_loss: 1.3680 - val_accuracy: 0.8125\n",
      "Epoch 34/100\n",
      "123/123 - 4s - loss: 0.0019 - accuracy: 0.9992 - val_loss: 1.3937 - val_accuracy: 0.7912\n",
      "Epoch 35/100\n",
      "123/123 - 4s - loss: 0.0020 - accuracy: 0.9990 - val_loss: 1.5113 - val_accuracy: 0.7900\n",
      "Epoch 36/100\n",
      "123/123 - 4s - loss: 0.0016 - accuracy: 0.9992 - val_loss: 1.4022 - val_accuracy: 0.7725\n",
      "Epoch 37/100\n",
      "123/123 - 4s - loss: 0.0017 - accuracy: 0.9990 - val_loss: 1.5402 - val_accuracy: 0.7925\n",
      "Epoch 38/100\n",
      "123/123 - 4s - loss: 0.0945 - accuracy: 0.9758 - val_loss: 1.3801 - val_accuracy: 0.7900\n",
      "Epoch 39/100\n",
      "123/123 - 4s - loss: 0.0333 - accuracy: 0.9901 - val_loss: 2.2632 - val_accuracy: 0.7500\n",
      "Epoch 40/100\n",
      "123/123 - 4s - loss: 0.0063 - accuracy: 0.9980 - val_loss: 2.4507 - val_accuracy: 0.7525\n",
      "Epoch 41/100\n",
      "123/123 - 4s - loss: 0.0019 - accuracy: 0.9995 - val_loss: 2.7748 - val_accuracy: 0.7287\n",
      "Epoch 42/100\n",
      "123/123 - 4s - loss: 0.0023 - accuracy: 0.9992 - val_loss: 2.8573 - val_accuracy: 0.7287\n",
      "Epoch 43/100\n",
      "123/123 - 4s - loss: 0.0016 - accuracy: 0.9992 - val_loss: 2.4935 - val_accuracy: 0.7563\n",
      "Epoch 44/100\n",
      "123/123 - 4s - loss: 0.0017 - accuracy: 0.9992 - val_loss: 2.5859 - val_accuracy: 0.7487\n",
      "Epoch 45/100\n",
      "123/123 - 4s - loss: 0.0016 - accuracy: 0.9992 - val_loss: 2.6570 - val_accuracy: 0.7450\n",
      "Epoch 46/100\n",
      "123/123 - 4s - loss: 0.0014 - accuracy: 0.9992 - val_loss: 2.5956 - val_accuracy: 0.7550\n",
      "Epoch 47/100\n",
      "123/123 - 4s - loss: 0.0013 - accuracy: 0.9992 - val_loss: 2.4848 - val_accuracy: 0.7575\n",
      "Epoch 48/100\n",
      "123/123 - 4s - loss: 0.0013 - accuracy: 0.9995 - val_loss: 2.7416 - val_accuracy: 0.7437\n",
      "Epoch 49/100\n",
      "123/123 - 4s - loss: 0.0012 - accuracy: 0.9995 - val_loss: 2.4593 - val_accuracy: 0.7625\n",
      "Epoch 50/100\n",
      "123/123 - 4s - loss: 0.0014 - accuracy: 0.9992 - val_loss: 2.6822 - val_accuracy: 0.7412\n",
      "Epoch 51/100\n",
      "123/123 - 4s - loss: 0.0013 - accuracy: 0.9995 - val_loss: 2.6711 - val_accuracy: 0.7437\n",
      "Epoch 52/100\n",
      "123/123 - 4s - loss: 0.0013 - accuracy: 0.9990 - val_loss: 2.6830 - val_accuracy: 0.7437\n",
      "Epoch 53/100\n",
      "123/123 - 4s - loss: 0.0011 - accuracy: 0.9995 - val_loss: 2.7178 - val_accuracy: 0.7450\n",
      "Epoch 54/100\n",
      "123/123 - 4s - loss: 0.0013 - accuracy: 0.9990 - val_loss: 2.6748 - val_accuracy: 0.7462\n",
      "Epoch 55/100\n",
      "123/123 - 4s - loss: 0.0011 - accuracy: 0.9995 - val_loss: 2.5670 - val_accuracy: 0.7462\n",
      "Epoch 56/100\n",
      "123/123 - 4s - loss: 9.4618e-04 - accuracy: 0.9992 - val_loss: 2.4929 - val_accuracy: 0.7575\n",
      "Epoch 57/100\n",
      "123/123 - 4s - loss: 9.3300e-04 - accuracy: 0.9995 - val_loss: 2.6137 - val_accuracy: 0.7538\n",
      "Epoch 58/100\n",
      "123/123 - 4s - loss: 9.2936e-04 - accuracy: 0.9990 - val_loss: 2.6985 - val_accuracy: 0.7475\n",
      "Epoch 59/100\n",
      "123/123 - 4s - loss: 8.5688e-04 - accuracy: 0.9995 - val_loss: 2.6528 - val_accuracy: 0.7588\n",
      "Epoch 60/100\n",
      "123/123 - 4s - loss: 8.3384e-04 - accuracy: 0.9992 - val_loss: 2.6616 - val_accuracy: 0.7600\n",
      "Epoch 61/100\n",
      "123/123 - 4s - loss: 7.9070e-04 - accuracy: 0.9992 - val_loss: 2.7176 - val_accuracy: 0.7575\n",
      "Epoch 62/100\n",
      "123/123 - 4s - loss: 8.1919e-04 - accuracy: 0.9992 - val_loss: 2.7520 - val_accuracy: 0.7538\n",
      "Epoch 63/100\n",
      "123/123 - 4s - loss: 8.1924e-04 - accuracy: 0.9992 - val_loss: 2.7736 - val_accuracy: 0.7563\n",
      "Epoch 64/100\n",
      "123/123 - 4s - loss: 8.1779e-04 - accuracy: 0.9992 - val_loss: 2.7602 - val_accuracy: 0.7613\n",
      "Epoch 65/100\n",
      "123/123 - 4s - loss: 7.9523e-04 - accuracy: 0.9992 - val_loss: 2.7453 - val_accuracy: 0.7638\n",
      "Epoch 66/100\n",
      "123/123 - 4s - loss: 7.9921e-04 - accuracy: 0.9992 - val_loss: 2.8334 - val_accuracy: 0.7600\n",
      "Epoch 67/100\n",
      "123/123 - 4s - loss: 7.5490e-04 - accuracy: 0.9995 - val_loss: 2.7623 - val_accuracy: 0.7613\n",
      "Epoch 68/100\n",
      "123/123 - 4s - loss: 7.4504e-04 - accuracy: 0.9995 - val_loss: 2.7916 - val_accuracy: 0.7663\n",
      "Epoch 69/100\n",
      "123/123 - 4s - loss: 0.0010 - accuracy: 0.9995 - val_loss: 2.6168 - val_accuracy: 0.7625\n",
      "Epoch 70/100\n",
      "123/123 - 4s - loss: 8.5116e-04 - accuracy: 0.9990 - val_loss: 2.6618 - val_accuracy: 0.7625\n",
      "Epoch 71/100\n",
      "123/123 - 4s - loss: 7.3527e-04 - accuracy: 0.9995 - val_loss: 2.7132 - val_accuracy: 0.7675\n",
      "Epoch 72/100\n",
      "123/123 - 4s - loss: 7.3060e-04 - accuracy: 0.9995 - val_loss: 2.7739 - val_accuracy: 0.7688\n",
      "Epoch 73/100\n",
      "123/123 - 4s - loss: 7.2677e-04 - accuracy: 0.9995 - val_loss: 2.8292 - val_accuracy: 0.7675\n",
      "Epoch 74/100\n",
      "123/123 - 4s - loss: 7.2545e-04 - accuracy: 0.9992 - val_loss: 2.9002 - val_accuracy: 0.7675\n",
      "Epoch 75/100\n",
      "123/123 - 4s - loss: 7.6385e-04 - accuracy: 0.9990 - val_loss: 2.8532 - val_accuracy: 0.7675\n",
      "Epoch 76/100\n",
      "123/123 - 4s - loss: 7.1266e-04 - accuracy: 0.9995 - val_loss: 2.8797 - val_accuracy: 0.7688\n",
      "Epoch 77/100\n",
      "123/123 - 4s - loss: 7.1005e-04 - accuracy: 0.9995 - val_loss: 2.9085 - val_accuracy: 0.7700\n",
      "Epoch 78/100\n",
      "123/123 - 4s - loss: 8.8461e-04 - accuracy: 0.9995 - val_loss: 3.2613 - val_accuracy: 0.7275\n",
      "Epoch 79/100\n",
      "123/123 - 4s - loss: 0.0218 - accuracy: 0.9957 - val_loss: 2.2200 - val_accuracy: 0.7875\n",
      "Epoch 80/100\n",
      "123/123 - 4s - loss: 0.1009 - accuracy: 0.9748 - val_loss: 1.4911 - val_accuracy: 0.8313\n"
     ]
    },
    {
     "name": "stdout",
     "output_type": "stream",
     "text": [
      "Epoch 81/100\n",
      "123/123 - 4s - loss: 0.0197 - accuracy: 0.9939 - val_loss: 3.3749 - val_accuracy: 0.7212\n",
      "Epoch 82/100\n",
      "123/123 - 4s - loss: 0.0020 - accuracy: 0.9995 - val_loss: 3.9004 - val_accuracy: 0.7150\n",
      "Epoch 83/100\n",
      "123/123 - 4s - loss: 0.0043 - accuracy: 0.9985 - val_loss: 3.1502 - val_accuracy: 0.7538\n",
      "Epoch 84/100\n",
      "123/123 - 4s - loss: 0.0013 - accuracy: 0.9997 - val_loss: 4.1157 - val_accuracy: 0.7063\n",
      "Epoch 85/100\n",
      "123/123 - 4s - loss: 0.0011 - accuracy: 0.9995 - val_loss: 3.5668 - val_accuracy: 0.7350\n",
      "Epoch 86/100\n",
      "123/123 - 4s - loss: 8.4444e-04 - accuracy: 0.9995 - val_loss: 3.5477 - val_accuracy: 0.7425\n",
      "Epoch 87/100\n",
      "123/123 - 4s - loss: 7.6073e-04 - accuracy: 0.9992 - val_loss: 3.5641 - val_accuracy: 0.7450\n",
      "Epoch 88/100\n",
      "123/123 - 4s - loss: 7.4023e-04 - accuracy: 0.9990 - val_loss: 3.6012 - val_accuracy: 0.7437\n",
      "Epoch 89/100\n",
      "123/123 - 4s - loss: 7.3416e-04 - accuracy: 0.9995 - val_loss: 3.6399 - val_accuracy: 0.7437\n",
      "Epoch 90/100\n",
      "123/123 - 4s - loss: 7.2997e-04 - accuracy: 0.9995 - val_loss: 3.6743 - val_accuracy: 0.7412\n",
      "Epoch 91/100\n",
      "123/123 - 4s - loss: 7.2676e-04 - accuracy: 0.9995 - val_loss: 3.6998 - val_accuracy: 0.7412\n",
      "Epoch 92/100\n",
      "123/123 - 4s - loss: 7.2414e-04 - accuracy: 0.9992 - val_loss: 3.7436 - val_accuracy: 0.7387\n",
      "Epoch 93/100\n",
      "123/123 - 4s - loss: 0.0011 - accuracy: 0.9995 - val_loss: 3.8786 - val_accuracy: 0.7350\n",
      "Epoch 94/100\n",
      "123/123 - 4s - loss: 7.2687e-04 - accuracy: 0.9995 - val_loss: 3.8285 - val_accuracy: 0.7375\n",
      "Epoch 95/100\n",
      "123/123 - 4s - loss: 7.2253e-04 - accuracy: 0.9992 - val_loss: 3.8175 - val_accuracy: 0.7387\n",
      "Epoch 96/100\n",
      "123/123 - 4s - loss: 7.2011e-04 - accuracy: 0.9995 - val_loss: 3.8257 - val_accuracy: 0.7387\n",
      "Epoch 97/100\n",
      "123/123 - 4s - loss: 7.1835e-04 - accuracy: 0.9992 - val_loss: 3.8396 - val_accuracy: 0.7400\n",
      "Epoch 98/100\n",
      "123/123 - 4s - loss: 7.1663e-04 - accuracy: 0.9995 - val_loss: 3.8529 - val_accuracy: 0.7412\n",
      "Epoch 99/100\n",
      "123/123 - 4s - loss: 7.1527e-04 - accuracy: 0.9992 - val_loss: 3.8763 - val_accuracy: 0.7425\n",
      "Epoch 100/100\n",
      "123/123 - 4s - loss: 7.1441e-04 - accuracy: 0.9995 - val_loss: 3.9014 - val_accuracy: 0.7450\n",
      "CNN Accuracy on Test Set: 92.42%\n"
     ]
    }
   ],
   "source": [
    "# Fit the model\n",
    "cnn_trained_model = cnn_model.fit( X_train_images, y_train_labels, validation_data=(X_val_images, y_val_labels),verbose=2, epochs=100)\n",
    "\n",
    "scores = cnn_model.evaluate(test_images, test_labels_binary, verbose=0)\n",
    "print(\"CNN Accuracy on Test Set: %.2f%%\" % (scores[1]*100))"
   ]
  },
  {
   "cell_type": "code",
   "execution_count": 29,
   "id": "b5a48e5e",
   "metadata": {},
   "outputs": [
    {
     "data": {
      "image/png": "[encoded data removed]",
      "text/plain": [
       "<Figure size 432x288 with 1 Axes>"
      ]
     },
     "metadata": {
      "needs_background": "light"
     },
     "output_type": "display_data"
    },
    {
     "data": {
      "image/png": "[encoded data removed]",
      "text/plain": [
       "<Figure size 432x288 with 1 Axes>"
      ]
     },
     "metadata": {
      "needs_background": "light"
     },
     "output_type": "display_data"
    }
   ],
   "source": [
    "def plot_graphs(cnn_trained_model, string):\n",
    "    plt.plot(cnn_trained_model.history[string])\n",
    "    plt.plot(cnn_trained_model.history['val_'+string])\n",
    "    plt.xlabel(\"Epochs\")\n",
    "    plt.ylabel(string)\n",
    "    plt.legend([string, 'val_'+string])\n",
    "    plt.show()\n",
    "    \n",
    "    \n",
    "  #Plot the accuracy and loss\n",
    "plot_graphs(cnn_trained_model, \"accuracy\")\n",
    "plot_graphs(cnn_trained_model, \"loss\")"
   ]
  },
  {
   "cell_type": "code",
   "execution_count": 30,
   "id": "44504a85",
   "metadata": {},
   "outputs": [
    {
     "name": "stdout",
     "output_type": "stream",
     "text": [
      "Validation: 0.745, Test: 0.924\n"
     ]
    }
   ],
   "source": [
    "_, val_acc = cnn_model.evaluate(X_val_images, y_val_labels, verbose=0)\n",
    "_, test_acc = cnn_model.evaluate(test_images, test_labels_binary, verbose=0)\n",
    "print('Validation: %.3f, Test: %.3f' % (val_acc, test_acc))"
   ]
  },
  {
   "cell_type": "code",
   "execution_count": null,
   "id": "58d45c64",
   "metadata": {},
   "outputs": [],
   "source": []
  },
  {
   "cell_type": "code",
   "execution_count": 31,
   "id": "00838372",
   "metadata": {},
   "outputs": [
    {
     "name": "stdout",
     "output_type": "stream",
     "text": [
      "Model: \"sequential_1\"\n",
      "_________________________________________________________________\n",
      "Layer (type)                 Output Shape              Param #   \n",
      "=================================================================\n",
      "conv2d_2 (Conv2D)            (None, 100, 100, 32)      2432      \n",
      "_________________________________________________________________\n",
      "conv2d_3 (Conv2D)            (None, 100, 100, 64)      51264     \n",
      "_________________________________________________________________\n",
      "max_pooling2d_1 (MaxPooling2 (None, 50, 50, 64)        0         \n",
      "_________________________________________________________________\n",
      "conv2d_4 (Conv2D)            (None, 50, 50, 128)       73856     \n",
      "_________________________________________________________________\n",
      "max_pooling2d_2 (MaxPooling2 (None, 25, 25, 128)       0         \n",
      "_________________________________________________________________\n",
      "flatten_1 (Flatten)          (None, 80000)             0         \n",
      "_________________________________________________________________\n",
      "dense_2 (Dense)              (None, 128)               10240128  \n",
      "_________________________________________________________________\n",
      "dense_3 (Dense)              (None, 1)                 129       \n",
      "=================================================================\n",
      "Total params: 10,367,809\n",
      "Trainable params: 10,367,809\n",
      "Non-trainable params: 0\n",
      "_________________________________________________________________\n"
     ]
    }
   ],
   "source": [
    "# Define the model  - no regularisation - more layers\n",
    "cnn_model = tf.keras.Sequential([\n",
    "    Conv2D(32, (5,5), padding = 'same', activation = 'relu', input_shape =(input_shape)),\n",
    "    Conv2D(64, (5,5), padding = 'same', activation = 'relu', input_shape =(input_shape)),\n",
    "    MaxPooling2D(2,2),\n",
    "    Conv2D(128, (3,3), padding = 'same', activation = 'relu', input_shape =(input_shape)),\n",
    "    MaxPooling2D(2,2),\n",
    "    Flatten(),\n",
    "    Dense(128, activation = 'relu'),\n",
    "    Dense(1, activation = \"sigmoid\"),                       \n",
    "\n",
    "])\n",
    "\n",
    "cnn_model.summary()"
   ]
  },
  {
   "cell_type": "code",
   "execution_count": 32,
   "id": "6be831b5",
   "metadata": {},
   "outputs": [],
   "source": [
    "# Compile the model\n",
    "cnn_model.compile(loss='binary_crossentropy',optimizer=tf.keras.optimizers.Adam(learning_rate=0.001),metrics=['accuracy'])"
   ]
  },
  {
   "cell_type": "code",
   "execution_count": 33,
   "id": "148c9feb",
   "metadata": {},
   "outputs": [
    {
     "name": "stdout",
     "output_type": "stream",
     "text": [
      "Epoch 1/100\n",
      "123/123 - 5s - loss: 0.3090 - accuracy: 0.8718 - val_loss: 1.4829 - val_accuracy: 0.6087\n",
      "Epoch 2/100\n",
      "123/123 - 3s - loss: 0.1090 - accuracy: 0.9624 - val_loss: 0.5758 - val_accuracy: 0.8313\n",
      "Epoch 3/100\n",
      "123/123 - 3s - loss: 0.0708 - accuracy: 0.9741 - val_loss: 0.7906 - val_accuracy: 0.8313\n",
      "Epoch 4/100\n",
      "123/123 - 3s - loss: 0.0463 - accuracy: 0.9837 - val_loss: 1.6594 - val_accuracy: 0.7425\n",
      "Epoch 5/100\n",
      "123/123 - 3s - loss: 0.0260 - accuracy: 0.9926 - val_loss: 1.1768 - val_accuracy: 0.8075\n",
      "Epoch 6/100\n",
      "123/123 - 3s - loss: 0.0281 - accuracy: 0.9919 - val_loss: 0.6337 - val_accuracy: 0.8487\n",
      "Epoch 7/100\n",
      "123/123 - 3s - loss: 0.0206 - accuracy: 0.9926 - val_loss: 1.4201 - val_accuracy: 0.7600\n",
      "Epoch 8/100\n",
      "123/123 - 3s - loss: 0.0172 - accuracy: 0.9954 - val_loss: 0.9048 - val_accuracy: 0.8400\n",
      "Epoch 9/100\n",
      "123/123 - 3s - loss: 0.0112 - accuracy: 0.9969 - val_loss: 1.5350 - val_accuracy: 0.7887\n",
      "Epoch 10/100\n",
      "123/123 - 3s - loss: 0.0041 - accuracy: 0.9992 - val_loss: 1.0613 - val_accuracy: 0.8438\n",
      "Epoch 11/100\n",
      "123/123 - 3s - loss: 0.0234 - accuracy: 0.9931 - val_loss: 0.3069 - val_accuracy: 0.9312\n",
      "Epoch 12/100\n",
      "123/123 - 3s - loss: 0.0140 - accuracy: 0.9952 - val_loss: 1.3839 - val_accuracy: 0.8000\n",
      "Epoch 13/100\n",
      "123/123 - 3s - loss: 0.0089 - accuracy: 0.9975 - val_loss: 0.8226 - val_accuracy: 0.8475\n",
      "Epoch 14/100\n",
      "123/123 - 3s - loss: 0.0109 - accuracy: 0.9972 - val_loss: 2.1727 - val_accuracy: 0.7437\n",
      "Epoch 15/100\n",
      "123/123 - 3s - loss: 0.0038 - accuracy: 0.9992 - val_loss: 1.1271 - val_accuracy: 0.8338\n",
      "Epoch 16/100\n",
      "123/123 - 3s - loss: 0.0036 - accuracy: 0.9995 - val_loss: 1.7141 - val_accuracy: 0.7850\n",
      "Epoch 17/100\n",
      "123/123 - 3s - loss: 0.0018 - accuracy: 0.9992 - val_loss: 1.5613 - val_accuracy: 0.8062\n",
      "Epoch 18/100\n",
      "123/123 - 3s - loss: 0.0025 - accuracy: 0.9992 - val_loss: 1.5071 - val_accuracy: 0.7962\n",
      "Epoch 19/100\n",
      "123/123 - 3s - loss: 0.0017 - accuracy: 0.9995 - val_loss: 1.1023 - val_accuracy: 0.8363\n",
      "Epoch 20/100\n",
      "123/123 - 3s - loss: 0.0025 - accuracy: 0.9992 - val_loss: 1.4723 - val_accuracy: 0.7912\n",
      "Epoch 21/100\n",
      "123/123 - 3s - loss: 0.0016 - accuracy: 0.9995 - val_loss: 1.4665 - val_accuracy: 0.8037\n",
      "Epoch 22/100\n",
      "123/123 - 3s - loss: 0.0019 - accuracy: 0.9990 - val_loss: 1.4152 - val_accuracy: 0.8025\n",
      "Epoch 23/100\n",
      "123/123 - 3s - loss: 0.0015 - accuracy: 0.9992 - val_loss: 1.6515 - val_accuracy: 0.7900\n",
      "Epoch 24/100\n",
      "123/123 - 3s - loss: 0.0016 - accuracy: 0.9992 - val_loss: 1.3061 - val_accuracy: 0.8087\n",
      "Epoch 25/100\n",
      "123/123 - 3s - loss: 0.0017 - accuracy: 0.9992 - val_loss: 1.3168 - val_accuracy: 0.8100\n",
      "Epoch 26/100\n",
      "123/123 - 3s - loss: 0.0015 - accuracy: 0.9995 - val_loss: 1.6876 - val_accuracy: 0.7825\n",
      "Epoch 27/100\n",
      "123/123 - 3s - loss: 0.0013 - accuracy: 0.9992 - val_loss: 1.3302 - val_accuracy: 0.8112\n",
      "Epoch 28/100\n",
      "123/123 - 3s - loss: 0.0013 - accuracy: 0.9992 - val_loss: 1.5000 - val_accuracy: 0.7987\n",
      "Epoch 29/100\n",
      "123/123 - 3s - loss: 0.0013 - accuracy: 0.9995 - val_loss: 1.3682 - val_accuracy: 0.8075\n",
      "Epoch 30/100\n",
      "123/123 - 3s - loss: 0.0016 - accuracy: 0.9990 - val_loss: 1.4661 - val_accuracy: 0.7962\n",
      "Epoch 31/100\n",
      "123/123 - 3s - loss: 0.0015 - accuracy: 0.9990 - val_loss: 1.7802 - val_accuracy: 0.7688\n",
      "Epoch 32/100\n",
      "123/123 - 3s - loss: 0.0018 - accuracy: 0.9992 - val_loss: 1.2432 - val_accuracy: 0.8150\n",
      "Epoch 33/100\n",
      "123/123 - 3s - loss: 0.0013 - accuracy: 0.9992 - val_loss: 1.4679 - val_accuracy: 0.7900\n",
      "Epoch 34/100\n",
      "123/123 - 3s - loss: 0.0019 - accuracy: 0.9990 - val_loss: 1.2243 - val_accuracy: 0.7937\n",
      "Epoch 35/100\n",
      "123/123 - 3s - loss: 0.0016 - accuracy: 0.9992 - val_loss: 1.0775 - val_accuracy: 0.8338\n",
      "Epoch 36/100\n",
      "123/123 - 3s - loss: 0.0022 - accuracy: 0.9995 - val_loss: 1.9539 - val_accuracy: 0.7725\n",
      "Epoch 37/100\n",
      "123/123 - 3s - loss: 0.0017 - accuracy: 0.9992 - val_loss: 0.9771 - val_accuracy: 0.8288\n",
      "Epoch 38/100\n",
      "123/123 - 3s - loss: 0.0521 - accuracy: 0.9850 - val_loss: 1.1711 - val_accuracy: 0.8150\n",
      "Epoch 39/100\n",
      "123/123 - 3s - loss: 0.0287 - accuracy: 0.9893 - val_loss: 0.9013 - val_accuracy: 0.8475\n",
      "Epoch 40/100\n",
      "123/123 - 3s - loss: 0.0031 - accuracy: 0.9990 - val_loss: 4.7823 - val_accuracy: 0.6275\n",
      "Epoch 41/100\n",
      "123/123 - 3s - loss: 0.0030 - accuracy: 0.9987 - val_loss: 2.9508 - val_accuracy: 0.7287\n",
      "Epoch 42/100\n",
      "123/123 - 3s - loss: 0.0021 - accuracy: 0.9995 - val_loss: 0.9759 - val_accuracy: 0.8850\n",
      "Epoch 43/100\n",
      "123/123 - 3s - loss: 0.0013 - accuracy: 0.9995 - val_loss: 1.9138 - val_accuracy: 0.7925\n",
      "Epoch 44/100\n",
      "123/123 - 3s - loss: 8.1860e-04 - accuracy: 0.9992 - val_loss: 1.8541 - val_accuracy: 0.7937\n",
      "Epoch 45/100\n",
      "123/123 - 3s - loss: 7.7272e-04 - accuracy: 0.9992 - val_loss: 1.8175 - val_accuracy: 0.7962\n",
      "Epoch 46/100\n",
      "123/123 - 3s - loss: 7.6387e-04 - accuracy: 0.9992 - val_loss: 1.8079 - val_accuracy: 0.7975\n",
      "Epoch 47/100\n",
      "123/123 - 3s - loss: 7.3487e-04 - accuracy: 0.9992 - val_loss: 1.8156 - val_accuracy: 0.7975\n",
      "Epoch 48/100\n",
      "123/123 - 3s - loss: 7.4717e-04 - accuracy: 0.9992 - val_loss: 1.8057 - val_accuracy: 0.7975\n",
      "Epoch 49/100\n",
      "123/123 - 3s - loss: 7.4318e-04 - accuracy: 0.9995 - val_loss: 1.8149 - val_accuracy: 0.7975\n",
      "Epoch 50/100\n",
      "123/123 - 3s - loss: 7.3734e-04 - accuracy: 0.9992 - val_loss: 1.8147 - val_accuracy: 0.8000\n",
      "Epoch 51/100\n",
      "123/123 - 3s - loss: 7.4421e-04 - accuracy: 0.9992 - val_loss: 1.8212 - val_accuracy: 0.7987\n",
      "Epoch 52/100\n",
      "123/123 - 3s - loss: 7.1766e-04 - accuracy: 0.9995 - val_loss: 1.8244 - val_accuracy: 0.8012\n",
      "Epoch 53/100\n",
      "123/123 - 3s - loss: 7.2502e-04 - accuracy: 0.9995 - val_loss: 1.8299 - val_accuracy: 0.8012\n",
      "Epoch 54/100\n",
      "123/123 - 3s - loss: 7.2231e-04 - accuracy: 0.9992 - val_loss: 1.8407 - val_accuracy: 0.8012\n",
      "Epoch 55/100\n",
      "123/123 - 3s - loss: 7.1918e-04 - accuracy: 0.9995 - val_loss: 1.8437 - val_accuracy: 0.8012\n",
      "Epoch 56/100\n",
      "123/123 - 3s - loss: 7.1593e-04 - accuracy: 0.9992 - val_loss: 1.8468 - val_accuracy: 0.8012\n",
      "Epoch 57/100\n",
      "123/123 - 3s - loss: 7.1685e-04 - accuracy: 0.9995 - val_loss: 1.8527 - val_accuracy: 0.8025\n",
      "Epoch 58/100\n",
      "123/123 - 3s - loss: 7.1431e-04 - accuracy: 0.9995 - val_loss: 1.8578 - val_accuracy: 0.8025\n",
      "Epoch 59/100\n",
      "123/123 - 3s - loss: 7.1289e-04 - accuracy: 0.9992 - val_loss: 1.8664 - val_accuracy: 0.8050\n",
      "Epoch 60/100\n",
      "123/123 - 3s - loss: 7.1104e-04 - accuracy: 0.9995 - val_loss: 1.8684 - val_accuracy: 0.8050\n",
      "Epoch 61/100\n",
      "123/123 - 3s - loss: 7.0915e-04 - accuracy: 0.9992 - val_loss: 1.8731 - val_accuracy: 0.8050\n",
      "Epoch 62/100\n",
      "123/123 - 3s - loss: 7.1026e-04 - accuracy: 0.9990 - val_loss: 1.8812 - val_accuracy: 0.8037\n",
      "Epoch 63/100\n",
      "123/123 - 3s - loss: 7.0844e-04 - accuracy: 0.9990 - val_loss: 1.8881 - val_accuracy: 0.8037\n",
      "Epoch 64/100\n",
      "123/123 - 3s - loss: 7.0840e-04 - accuracy: 0.9995 - val_loss: 1.8903 - val_accuracy: 0.8062\n",
      "Epoch 65/100\n",
      "123/123 - 3s - loss: 7.0836e-04 - accuracy: 0.9990 - val_loss: 1.8942 - val_accuracy: 0.8062\n",
      "Epoch 66/100\n",
      "123/123 - 3s - loss: 7.0793e-04 - accuracy: 0.9995 - val_loss: 1.9005 - val_accuracy: 0.8062\n",
      "Epoch 67/100\n",
      "123/123 - 3s - loss: 7.0768e-04 - accuracy: 0.9990 - val_loss: 1.9028 - val_accuracy: 0.8062\n",
      "Epoch 68/100\n",
      "123/123 - 3s - loss: 0.1115 - accuracy: 0.9779 - val_loss: 1.2003 - val_accuracy: 0.8125\n",
      "Epoch 69/100\n",
      "123/123 - 3s - loss: 0.0199 - accuracy: 0.9936 - val_loss: 2.1860 - val_accuracy: 0.7713\n",
      "Epoch 70/100\n",
      "123/123 - 3s - loss: 0.0026 - accuracy: 0.9992 - val_loss: 1.2569 - val_accuracy: 0.8475\n",
      "Epoch 71/100\n",
      "123/123 - 3s - loss: 0.0014 - accuracy: 0.9992 - val_loss: 1.4261 - val_accuracy: 0.8313\n",
      "Epoch 72/100\n",
      "123/123 - 3s - loss: 0.0012 - accuracy: 0.9995 - val_loss: 1.2710 - val_accuracy: 0.8438\n",
      "Epoch 73/100\n",
      "123/123 - 3s - loss: 0.0010 - accuracy: 0.9995 - val_loss: 1.3617 - val_accuracy: 0.8338\n",
      "Epoch 74/100\n",
      "123/123 - 3s - loss: 0.0012 - accuracy: 0.9992 - val_loss: 1.3471 - val_accuracy: 0.8325\n",
      "Epoch 75/100\n",
      "123/123 - 3s - loss: 0.0012 - accuracy: 0.9992 - val_loss: 1.3561 - val_accuracy: 0.8350\n",
      "Epoch 76/100\n",
      "123/123 - 3s - loss: 0.0012 - accuracy: 0.9995 - val_loss: 1.2924 - val_accuracy: 0.8363\n",
      "Epoch 77/100\n",
      "123/123 - 3s - loss: 8.3671e-04 - accuracy: 0.9992 - val_loss: 1.3540 - val_accuracy: 0.8325\n",
      "Epoch 78/100\n",
      "123/123 - 3s - loss: 7.3719e-04 - accuracy: 0.9995 - val_loss: 1.3805 - val_accuracy: 0.8325\n",
      "Epoch 79/100\n",
      "123/123 - 3s - loss: 0.0022 - accuracy: 0.9995 - val_loss: 1.3560 - val_accuracy: 0.8163\n",
      "Epoch 80/100\n",
      "123/123 - 3s - loss: 9.4116e-04 - accuracy: 0.9992 - val_loss: 1.5077 - val_accuracy: 0.8225\n"
     ]
    },
    {
     "name": "stdout",
     "output_type": "stream",
     "text": [
      "Epoch 81/100\n",
      "123/123 - 3s - loss: 7.5515e-04 - accuracy: 0.9995 - val_loss: 1.5218 - val_accuracy: 0.8250\n",
      "Epoch 82/100\n",
      "123/123 - 3s - loss: 7.4201e-04 - accuracy: 0.9995 - val_loss: 1.5204 - val_accuracy: 0.8288\n",
      "Epoch 83/100\n",
      "123/123 - 3s - loss: 7.3050e-04 - accuracy: 0.9995 - val_loss: 1.5304 - val_accuracy: 0.8313\n",
      "Epoch 84/100\n",
      "123/123 - 3s - loss: 7.2426e-04 - accuracy: 0.9995 - val_loss: 1.5355 - val_accuracy: 0.8300\n",
      "Epoch 85/100\n",
      "123/123 - 3s - loss: 7.1791e-04 - accuracy: 0.9995 - val_loss: 1.5410 - val_accuracy: 0.8300\n",
      "Epoch 86/100\n",
      "123/123 - 3s - loss: 7.1768e-04 - accuracy: 0.9995 - val_loss: 1.5503 - val_accuracy: 0.8300\n",
      "Epoch 87/100\n",
      "123/123 - 3s - loss: 7.1758e-04 - accuracy: 0.9995 - val_loss: 1.5566 - val_accuracy: 0.8300\n",
      "Epoch 88/100\n",
      "123/123 - 3s - loss: 7.1508e-04 - accuracy: 0.9992 - val_loss: 1.5644 - val_accuracy: 0.8300\n",
      "Epoch 89/100\n",
      "123/123 - 3s - loss: 7.1361e-04 - accuracy: 0.9992 - val_loss: 1.5742 - val_accuracy: 0.8300\n",
      "Epoch 90/100\n",
      "123/123 - 3s - loss: 7.1212e-04 - accuracy: 0.9992 - val_loss: 1.5933 - val_accuracy: 0.8275\n",
      "Epoch 91/100\n",
      "123/123 - 3s - loss: 7.1145e-04 - accuracy: 0.9992 - val_loss: 1.5969 - val_accuracy: 0.8300\n",
      "Epoch 92/100\n",
      "123/123 - 3s - loss: 7.1032e-04 - accuracy: 0.9992 - val_loss: 1.6073 - val_accuracy: 0.8313\n",
      "Epoch 93/100\n",
      "123/123 - 3s - loss: 7.1003e-04 - accuracy: 0.9992 - val_loss: 1.6113 - val_accuracy: 0.8313\n",
      "Epoch 94/100\n",
      "123/123 - 3s - loss: 7.0956e-04 - accuracy: 0.9990 - val_loss: 1.6239 - val_accuracy: 0.8300\n",
      "Epoch 95/100\n",
      "123/123 - 3s - loss: 7.0840e-04 - accuracy: 0.9992 - val_loss: 1.6335 - val_accuracy: 0.8288\n",
      "Epoch 96/100\n",
      "123/123 - 3s - loss: 7.0831e-04 - accuracy: 0.9990 - val_loss: 1.6397 - val_accuracy: 0.8300\n",
      "Epoch 97/100\n",
      "123/123 - 3s - loss: 7.0878e-04 - accuracy: 0.9990 - val_loss: 1.6469 - val_accuracy: 0.8300\n",
      "Epoch 98/100\n",
      "123/123 - 3s - loss: 7.0845e-04 - accuracy: 0.9995 - val_loss: 1.6551 - val_accuracy: 0.8313\n",
      "Epoch 99/100\n",
      "123/123 - 3s - loss: 7.0794e-04 - accuracy: 0.9990 - val_loss: 1.6625 - val_accuracy: 0.8325\n",
      "Epoch 100/100\n",
      "123/123 - 3s - loss: 7.0722e-04 - accuracy: 0.9992 - val_loss: 1.6728 - val_accuracy: 0.8325\n",
      "CNN Accuracy on Test Set: 95.97%\n"
     ]
    }
   ],
   "source": [
    "# Fit the model\n",
    "cnn_trained_model = cnn_model.fit( X_train_images, y_train_labels, validation_data=(X_val_images, y_val_labels),verbose=2, epochs=100)\n",
    "\n",
    "scores = cnn_model.evaluate(test_images, test_labels_binary, verbose=0)\n",
    "print(\"CNN Accuracy on Test Set: %.2f%%\" % (scores[1]*100))"
   ]
  },
  {
   "cell_type": "code",
   "execution_count": 34,
   "id": "8adec2d3",
   "metadata": {},
   "outputs": [
    {
     "data": {
      "image/png": "[encoded data removed]",
      "text/plain": [
       "<Figure size 432x288 with 1 Axes>"
      ]
     },
     "metadata": {
      "needs_background": "light"
     },
     "output_type": "display_data"
    },
    {
     "data": {
      "image/png": "[encoded data removed]",
      "text/plain": [
       "<Figure size 432x288 with 1 Axes>"
      ]
     },
     "metadata": {
      "needs_background": "light"
     },
     "output_type": "display_data"
    }
   ],
   "source": [
    "def plot_graphs(cnn_trained_model, string):\n",
    "    plt.plot(cnn_trained_model.history[string])\n",
    "    plt.plot(cnn_trained_model.history['val_'+string])\n",
    "    plt.xlabel(\"Epochs\")\n",
    "    plt.ylabel(string)\n",
    "    plt.legend([string, 'val_'+string])\n",
    "    plt.show()\n",
    "    \n",
    "    \n",
    "  #Plot the accuracy and loss\n",
    "plot_graphs(cnn_trained_model, \"accuracy\")\n",
    "plot_graphs(cnn_trained_model, \"loss\")"
   ]
  },
  {
   "cell_type": "code",
   "execution_count": 35,
   "id": "83cef657",
   "metadata": {},
   "outputs": [
    {
     "name": "stdout",
     "output_type": "stream",
     "text": [
      "Validation: 0.832, Test: 0.960\n"
     ]
    }
   ],
   "source": [
    "_, val_acc = cnn_model.evaluate(X_val_images, y_val_labels, verbose=0)\n",
    "_, test_acc = cnn_model.evaluate(test_images, test_labels_binary, verbose=0)\n",
    "print('Validation: %.3f, Test: %.3f' % (val_acc, test_acc))"
   ]
  },
  {
   "cell_type": "code",
   "execution_count": null,
   "id": "70df2d4a",
   "metadata": {},
   "outputs": [],
   "source": []
  },
  {
   "cell_type": "code",
   "execution_count": null,
   "id": "58bee3fd",
   "metadata": {},
   "outputs": [],
   "source": []
  },
  {
   "cell_type": "code",
   "execution_count": 48,
   "id": "186a9062",
   "metadata": {},
   "outputs": [
    {
     "name": "stdout",
     "output_type": "stream",
     "text": [
      "Model: \"sequential_4\"\n",
      "_________________________________________________________________\n",
      "Layer (type)                 Output Shape              Param #   \n",
      "=================================================================\n",
      "conv2d_11 (Conv2D)           (None, 100, 100, 32)      2432      \n",
      "_________________________________________________________________\n",
      "conv2d_12 (Conv2D)           (None, 100, 100, 64)      51264     \n",
      "_________________________________________________________________\n",
      "max_pooling2d_7 (MaxPooling2 (None, 50, 50, 64)        0         \n",
      "_________________________________________________________________\n",
      "conv2d_13 (Conv2D)           (None, 50, 50, 128)       73856     \n",
      "_________________________________________________________________\n",
      "max_pooling2d_8 (MaxPooling2 (None, 25, 25, 128)       0         \n",
      "_________________________________________________________________\n",
      "flatten_4 (Flatten)          (None, 80000)             0         \n",
      "_________________________________________________________________\n",
      "dense_10 (Dense)             (None, 64)                5120064   \n",
      "_________________________________________________________________\n",
      "dropout_4 (Dropout)          (None, 64)                0         \n",
      "_________________________________________________________________\n",
      "dense_11 (Dense)             (None, 128)               8320      \n",
      "_________________________________________________________________\n",
      "dense_12 (Dense)             (None, 1)                 129       \n",
      "=================================================================\n",
      "Total params: 5,256,065\n",
      "Trainable params: 5,256,065\n",
      "Non-trainable params: 0\n",
      "_________________________________________________________________\n"
     ]
    }
   ],
   "source": [
    "# Define the model  -  regularisation\n",
    "\n",
    "cnn_model = tf.keras.Sequential([\n",
    "    Conv2D(32, (5,5), padding = 'same',strides=1, activation = 'relu', input_shape =(input_shape)),\n",
    "    Conv2D(64, (5,5), padding = 'same', activation = 'relu', input_shape =(input_shape)),\n",
    "    MaxPooling2D(2,2),\n",
    "    Conv2D(128, (3,3), padding = 'same', activation = 'relu', input_shape =(input_shape)),\n",
    "    MaxPooling2D(2,2),\n",
    " #   Dropout(0.1),\n",
    "    Flatten(),\n",
    "    Dense(64, activation = 'relu'),\n",
    "    Dropout(0.15),\n",
    "    Dense(128, activation = 'relu'),\n",
    "    Dense(1, activation = \"sigmoid\"),                       \n",
    "\n",
    "])\n",
    "\n",
    "cnn_model.summary()"
   ]
  },
  {
   "cell_type": "code",
   "execution_count": 49,
   "id": "da0c05db",
   "metadata": {},
   "outputs": [],
   "source": [
    "# Compile the model\n",
    "cnn_model.compile(loss='binary_crossentropy',optimizer=tf.keras.optimizers.Adam(learning_rate=0.001),metrics=['accuracy'])"
   ]
  },
  {
   "cell_type": "code",
   "execution_count": 50,
   "id": "276ebcd2",
   "metadata": {},
   "outputs": [
    {
     "name": "stdout",
     "output_type": "stream",
     "text": [
      "Epoch 1/100\n",
      "123/123 - 4s - loss: 0.3615 - accuracy: 0.8527 - val_loss: 1.9823 - val_accuracy: 0.6250\n",
      "Epoch 2/100\n",
      "123/123 - 3s - loss: 0.1174 - accuracy: 0.9606 - val_loss: 1.0264 - val_accuracy: 0.7475\n",
      "Epoch 3/100\n",
      "123/123 - 3s - loss: 0.0818 - accuracy: 0.9733 - val_loss: 0.3115 - val_accuracy: 0.8800\n",
      "Epoch 4/100\n",
      "123/123 - 3s - loss: 0.0573 - accuracy: 0.9809 - val_loss: 0.3775 - val_accuracy: 0.8850\n",
      "Epoch 5/100\n",
      "123/123 - 3s - loss: 0.0401 - accuracy: 0.9835 - val_loss: 0.5148 - val_accuracy: 0.8550\n",
      "Epoch 6/100\n",
      "123/123 - 3s - loss: 0.0212 - accuracy: 0.9929 - val_loss: 0.8795 - val_accuracy: 0.8462\n",
      "Epoch 7/100\n",
      "123/123 - 3s - loss: 0.0230 - accuracy: 0.9929 - val_loss: 0.8493 - val_accuracy: 0.8425\n",
      "Epoch 8/100\n",
      "123/123 - 3s - loss: 0.0187 - accuracy: 0.9947 - val_loss: 1.5457 - val_accuracy: 0.7962\n",
      "Epoch 9/100\n",
      "123/123 - 3s - loss: 0.0208 - accuracy: 0.9921 - val_loss: 1.1007 - val_accuracy: 0.8112\n",
      "Epoch 10/100\n",
      "123/123 - 3s - loss: 0.0145 - accuracy: 0.9944 - val_loss: 1.0785 - val_accuracy: 0.8413\n",
      "Epoch 11/100\n",
      "123/123 - 3s - loss: 0.0268 - accuracy: 0.9919 - val_loss: 1.0221 - val_accuracy: 0.8188\n",
      "Epoch 12/100\n",
      "123/123 - 3s - loss: 0.0182 - accuracy: 0.9952 - val_loss: 0.7915 - val_accuracy: 0.8575\n",
      "Epoch 13/100\n",
      "123/123 - 3s - loss: 0.0074 - accuracy: 0.9972 - val_loss: 1.6224 - val_accuracy: 0.8125\n",
      "Epoch 14/100\n",
      "123/123 - 3s - loss: 0.0114 - accuracy: 0.9972 - val_loss: 2.0772 - val_accuracy: 0.7412\n",
      "Epoch 15/100\n",
      "123/123 - 3s - loss: 0.0175 - accuracy: 0.9934 - val_loss: 1.6500 - val_accuracy: 0.7987\n",
      "Epoch 16/100\n",
      "123/123 - 3s - loss: 0.0147 - accuracy: 0.9967 - val_loss: 2.7099 - val_accuracy: 0.7100\n",
      "Epoch 17/100\n",
      "123/123 - 3s - loss: 0.0028 - accuracy: 0.9992 - val_loss: 2.4596 - val_accuracy: 0.7675\n",
      "Epoch 18/100\n",
      "123/123 - 3s - loss: 0.0066 - accuracy: 0.9985 - val_loss: 1.2031 - val_accuracy: 0.8637\n",
      "Epoch 19/100\n",
      "123/123 - 3s - loss: 0.0045 - accuracy: 0.9982 - val_loss: 2.8129 - val_accuracy: 0.7887\n",
      "Epoch 20/100\n",
      "123/123 - 3s - loss: 0.0627 - accuracy: 0.9814 - val_loss: 0.6450 - val_accuracy: 0.8675\n",
      "Epoch 21/100\n",
      "123/123 - 3s - loss: 0.0206 - accuracy: 0.9924 - val_loss: 1.3736 - val_accuracy: 0.8175\n",
      "Epoch 22/100\n",
      "123/123 - 3s - loss: 0.0102 - accuracy: 0.9969 - val_loss: 1.5325 - val_accuracy: 0.8275\n",
      "Epoch 23/100\n",
      "123/123 - 3s - loss: 0.0057 - accuracy: 0.9980 - val_loss: 2.3906 - val_accuracy: 0.7675\n",
      "Epoch 24/100\n",
      "123/123 - 3s - loss: 0.0092 - accuracy: 0.9977 - val_loss: 2.8895 - val_accuracy: 0.7225\n",
      "Epoch 25/100\n",
      "123/123 - 3s - loss: 0.0028 - accuracy: 0.9985 - val_loss: 2.1012 - val_accuracy: 0.8000\n",
      "Epoch 26/100\n",
      "123/123 - 3s - loss: 0.0067 - accuracy: 0.9977 - val_loss: 3.9490 - val_accuracy: 0.7262\n",
      "Epoch 27/100\n",
      "123/123 - 3s - loss: 0.0121 - accuracy: 0.9944 - val_loss: 1.2817 - val_accuracy: 0.8587\n",
      "Epoch 28/100\n",
      "123/123 - 3s - loss: 0.0068 - accuracy: 0.9969 - val_loss: 1.8733 - val_accuracy: 0.8037\n",
      "Epoch 29/100\n",
      "123/123 - 3s - loss: 0.0057 - accuracy: 0.9987 - val_loss: 2.2889 - val_accuracy: 0.8125\n",
      "Epoch 30/100\n",
      "123/123 - 3s - loss: 0.0054 - accuracy: 0.9982 - val_loss: 5.9334 - val_accuracy: 0.6550\n",
      "Epoch 31/100\n",
      "123/123 - 3s - loss: 0.0058 - accuracy: 0.9987 - val_loss: 2.0220 - val_accuracy: 0.7788\n",
      "Epoch 32/100\n",
      "123/123 - 3s - loss: 0.0019 - accuracy: 0.9995 - val_loss: 2.9407 - val_accuracy: 0.7563\n",
      "Epoch 33/100\n",
      "123/123 - 3s - loss: 0.0016 - accuracy: 0.9995 - val_loss: 3.2492 - val_accuracy: 0.7675\n",
      "Epoch 34/100\n",
      "123/123 - 3s - loss: 0.0016 - accuracy: 0.9995 - val_loss: 3.3126 - val_accuracy: 0.7725\n",
      "Epoch 35/100\n",
      "123/123 - 3s - loss: 0.0018 - accuracy: 0.9992 - val_loss: 2.7277 - val_accuracy: 0.8075\n",
      "Epoch 36/100\n",
      "123/123 - 3s - loss: 0.0026 - accuracy: 0.9992 - val_loss: 3.1603 - val_accuracy: 0.7763\n",
      "Epoch 37/100\n",
      "123/123 - 3s - loss: 0.0221 - accuracy: 0.9936 - val_loss: 0.7845 - val_accuracy: 0.8788\n",
      "Epoch 38/100\n",
      "123/123 - 3s - loss: 0.0160 - accuracy: 0.9944 - val_loss: 2.1598 - val_accuracy: 0.7925\n",
      "Epoch 39/100\n",
      "123/123 - 3s - loss: 0.0119 - accuracy: 0.9957 - val_loss: 2.0769 - val_accuracy: 0.7725\n",
      "Epoch 40/100\n",
      "123/123 - 3s - loss: 0.0086 - accuracy: 0.9969 - val_loss: 2.7228 - val_accuracy: 0.7437\n",
      "Epoch 41/100\n",
      "123/123 - 3s - loss: 0.0118 - accuracy: 0.9964 - val_loss: 1.4177 - val_accuracy: 0.8575\n",
      "Epoch 42/100\n",
      "123/123 - 3s - loss: 0.0062 - accuracy: 0.9980 - val_loss: 1.9756 - val_accuracy: 0.8163\n",
      "Epoch 43/100\n",
      "123/123 - 3s - loss: 0.0024 - accuracy: 0.9990 - val_loss: 1.9586 - val_accuracy: 0.8413\n",
      "Epoch 44/100\n",
      "123/123 - 3s - loss: 0.0043 - accuracy: 0.9982 - val_loss: 5.3776 - val_accuracy: 0.6612\n",
      "Epoch 45/100\n",
      "123/123 - 3s - loss: 0.0032 - accuracy: 0.9990 - val_loss: 4.6800 - val_accuracy: 0.7287\n",
      "Epoch 46/100\n",
      "123/123 - 3s - loss: 0.0018 - accuracy: 0.9995 - val_loss: 4.9951 - val_accuracy: 0.7325\n",
      "Epoch 47/100\n",
      "123/123 - 3s - loss: 0.0050 - accuracy: 0.9985 - val_loss: 2.6232 - val_accuracy: 0.8213\n",
      "Epoch 48/100\n",
      "123/123 - 3s - loss: 0.0080 - accuracy: 0.9980 - val_loss: 1.9903 - val_accuracy: 0.8487\n",
      "Epoch 49/100\n",
      "123/123 - 3s - loss: 0.0092 - accuracy: 0.9962 - val_loss: 2.9906 - val_accuracy: 0.7900\n",
      "Epoch 50/100\n",
      "123/123 - 3s - loss: 0.0077 - accuracy: 0.9982 - val_loss: 2.3502 - val_accuracy: 0.8000\n",
      "Epoch 51/100\n",
      "123/123 - 3s - loss: 0.0081 - accuracy: 0.9975 - val_loss: 3.4126 - val_accuracy: 0.7738\n",
      "Epoch 52/100\n",
      "123/123 - 3s - loss: 0.0194 - accuracy: 0.9949 - val_loss: 5.7113 - val_accuracy: 0.7275\n",
      "Epoch 53/100\n",
      "123/123 - 3s - loss: 0.0085 - accuracy: 0.9972 - val_loss: 3.7897 - val_accuracy: 0.7812\n",
      "Epoch 54/100\n",
      "123/123 - 3s - loss: 0.0029 - accuracy: 0.9987 - val_loss: 2.4022 - val_accuracy: 0.8550\n",
      "Epoch 55/100\n",
      "123/123 - 3s - loss: 0.0040 - accuracy: 0.9980 - val_loss: 1.2876 - val_accuracy: 0.8788\n",
      "Epoch 56/100\n",
      "123/123 - 3s - loss: 0.0035 - accuracy: 0.9985 - val_loss: 3.7126 - val_accuracy: 0.7975\n",
      "Epoch 57/100\n",
      "123/123 - 3s - loss: 0.0018 - accuracy: 0.9992 - val_loss: 3.4129 - val_accuracy: 0.8200\n",
      "Epoch 58/100\n",
      "123/123 - 3s - loss: 0.0030 - accuracy: 0.9992 - val_loss: 4.3135 - val_accuracy: 0.7713\n",
      "Epoch 59/100\n",
      "123/123 - 3s - loss: 0.0018 - accuracy: 0.9995 - val_loss: 5.9591 - val_accuracy: 0.7237\n",
      "Epoch 60/100\n",
      "123/123 - 3s - loss: 0.0033 - accuracy: 0.9990 - val_loss: 6.7287 - val_accuracy: 0.7138\n",
      "Epoch 61/100\n",
      "123/123 - 3s - loss: 0.0027 - accuracy: 0.9987 - val_loss: 4.5298 - val_accuracy: 0.7862\n",
      "Epoch 62/100\n",
      "123/123 - 3s - loss: 0.0080 - accuracy: 0.9982 - val_loss: 2.7601 - val_accuracy: 0.8600\n",
      "Epoch 63/100\n",
      "123/123 - 3s - loss: 0.0048 - accuracy: 0.9987 - val_loss: 2.4148 - val_accuracy: 0.8550\n",
      "Epoch 64/100\n",
      "123/123 - 3s - loss: 0.0055 - accuracy: 0.9987 - val_loss: 1.9304 - val_accuracy: 0.8712\n",
      "Epoch 65/100\n",
      "123/123 - 3s - loss: 0.0228 - accuracy: 0.9952 - val_loss: 1.7360 - val_accuracy: 0.8462\n",
      "Epoch 66/100\n",
      "123/123 - 3s - loss: 0.0103 - accuracy: 0.9980 - val_loss: 1.8406 - val_accuracy: 0.8238\n",
      "Epoch 67/100\n",
      "123/123 - 3s - loss: 0.0023 - accuracy: 0.9992 - val_loss: 1.9910 - val_accuracy: 0.8375\n",
      "Epoch 68/100\n",
      "123/123 - 3s - loss: 0.0019 - accuracy: 0.9992 - val_loss: 2.5374 - val_accuracy: 0.8300\n",
      "Epoch 69/100\n",
      "123/123 - 3s - loss: 0.0021 - accuracy: 0.9992 - val_loss: 3.6319 - val_accuracy: 0.7937\n",
      "Epoch 70/100\n",
      "123/123 - 3s - loss: 0.0056 - accuracy: 0.9980 - val_loss: 2.3008 - val_accuracy: 0.8662\n",
      "Epoch 71/100\n",
      "123/123 - 3s - loss: 0.0018 - accuracy: 0.9992 - val_loss: 2.2566 - val_accuracy: 0.8675\n",
      "Epoch 72/100\n",
      "123/123 - 3s - loss: 0.0016 - accuracy: 0.9992 - val_loss: 2.6801 - val_accuracy: 0.8587\n",
      "Epoch 73/100\n",
      "123/123 - 3s - loss: 0.0119 - accuracy: 0.9959 - val_loss: 6.9214 - val_accuracy: 0.7300\n",
      "Epoch 74/100\n",
      "123/123 - 3s - loss: 0.0085 - accuracy: 0.9980 - val_loss: 4.8071 - val_accuracy: 0.7375\n",
      "Epoch 75/100\n",
      "123/123 - 3s - loss: 0.0063 - accuracy: 0.9985 - val_loss: 3.1036 - val_accuracy: 0.8138\n",
      "Epoch 76/100\n",
      "123/123 - 3s - loss: 0.0098 - accuracy: 0.9977 - val_loss: 2.2402 - val_accuracy: 0.8500\n",
      "Epoch 77/100\n",
      "123/123 - 3s - loss: 0.0021 - accuracy: 0.9990 - val_loss: 2.8344 - val_accuracy: 0.8425\n",
      "Epoch 78/100\n",
      "123/123 - 3s - loss: 0.0074 - accuracy: 0.9980 - val_loss: 2.6773 - val_accuracy: 0.8087\n",
      "Epoch 79/100\n",
      "123/123 - 3s - loss: 0.0037 - accuracy: 0.9992 - val_loss: 3.2373 - val_accuracy: 0.7738\n",
      "Epoch 80/100\n",
      "123/123 - 3s - loss: 0.0028 - accuracy: 0.9990 - val_loss: 2.2577 - val_accuracy: 0.8363\n",
      "Epoch 81/100\n",
      "123/123 - 3s - loss: 0.0020 - accuracy: 0.9992 - val_loss: 2.8121 - val_accuracy: 0.8188\n"
     ]
    },
    {
     "name": "stdout",
     "output_type": "stream",
     "text": [
      "Epoch 82/100\n",
      "123/123 - 3s - loss: 0.0016 - accuracy: 0.9992 - val_loss: 2.5980 - val_accuracy: 0.8438\n",
      "Epoch 83/100\n",
      "123/123 - 3s - loss: 0.0014 - accuracy: 0.9995 - val_loss: 3.1721 - val_accuracy: 0.8250\n",
      "Epoch 84/100\n",
      "123/123 - 3s - loss: 0.0021 - accuracy: 0.9992 - val_loss: 7.8252 - val_accuracy: 0.6812\n",
      "Epoch 85/100\n",
      "123/123 - 3s - loss: 0.0162 - accuracy: 0.9962 - val_loss: 2.3536 - val_accuracy: 0.8388\n",
      "Epoch 86/100\n",
      "123/123 - 3s - loss: 0.0024 - accuracy: 0.9990 - val_loss: 2.2325 - val_accuracy: 0.8512\n",
      "Epoch 87/100\n",
      "123/123 - 3s - loss: 0.0022 - accuracy: 0.9995 - val_loss: 2.1742 - val_accuracy: 0.8600\n",
      "Epoch 88/100\n",
      "123/123 - 3s - loss: 0.0014 - accuracy: 0.9995 - val_loss: 2.7867 - val_accuracy: 0.8450\n",
      "Epoch 89/100\n",
      "123/123 - 3s - loss: 0.0033 - accuracy: 0.9987 - val_loss: 2.0014 - val_accuracy: 0.8838\n",
      "Epoch 90/100\n",
      "123/123 - 3s - loss: 0.0071 - accuracy: 0.9990 - val_loss: 1.8686 - val_accuracy: 0.8587\n",
      "Epoch 91/100\n",
      "123/123 - 3s - loss: 0.0017 - accuracy: 0.9995 - val_loss: 2.0645 - val_accuracy: 0.8662\n",
      "Epoch 92/100\n",
      "123/123 - 3s - loss: 0.0015 - accuracy: 0.9995 - val_loss: 2.0704 - val_accuracy: 0.8788\n",
      "Epoch 93/100\n",
      "123/123 - 3s - loss: 0.0013 - accuracy: 0.9992 - val_loss: 2.3553 - val_accuracy: 0.8637\n",
      "Epoch 94/100\n",
      "123/123 - 3s - loss: 0.0015 - accuracy: 0.9995 - val_loss: 2.4485 - val_accuracy: 0.8550\n",
      "Epoch 95/100\n",
      "123/123 - 3s - loss: 0.0039 - accuracy: 0.9992 - val_loss: 3.5101 - val_accuracy: 0.7775\n",
      "Epoch 96/100\n",
      "123/123 - 3s - loss: 0.0040 - accuracy: 0.9985 - val_loss: 3.4649 - val_accuracy: 0.7713\n",
      "Epoch 97/100\n",
      "123/123 - 3s - loss: 0.0031 - accuracy: 0.9990 - val_loss: 1.6608 - val_accuracy: 0.8800\n",
      "Epoch 98/100\n",
      "123/123 - 3s - loss: 0.0016 - accuracy: 0.9992 - val_loss: 3.1681 - val_accuracy: 0.8175\n",
      "Epoch 99/100\n",
      "123/123 - 3s - loss: 0.0037 - accuracy: 0.9990 - val_loss: 1.0000 - val_accuracy: 0.9125\n",
      "Epoch 100/100\n",
      "123/123 - 3s - loss: 0.0127 - accuracy: 0.9967 - val_loss: 1.6900 - val_accuracy: 0.8662\n",
      "CNN Accuracy on Test Set: 95.22%\n"
     ]
    }
   ],
   "source": [
    "# Fit the model\n",
    "cnn_trained_model = cnn_model.fit( X_train_images, y_train_labels, validation_data=(X_val_images, y_val_labels),verbose=2, epochs=100)\n",
    "\n",
    "scores = cnn_model.evaluate(test_images, test_labels_binary, verbose=0)\n",
    "print(\"CNN Accuracy on Test Set: %.2f%%\" % (scores[1]*100))"
   ]
  },
  {
   "cell_type": "code",
   "execution_count": 51,
   "id": "2dbe1695",
   "metadata": {},
   "outputs": [
    {
     "data": {
      "image/png": "[encoded data removed]",
      "text/plain": [
       "<Figure size 432x288 with 1 Axes>"
      ]
     },
     "metadata": {
      "needs_background": "light"
     },
     "output_type": "display_data"
    },
    {
     "data": {
      "image/png": "[encoded data removed]",
      "text/plain": [
       "<Figure size 432x288 with 1 Axes>"
      ]
     },
     "metadata": {
      "needs_background": "light"
     },
     "output_type": "display_data"
    }
   ],
   "source": [
    "def plot_graphs(cnn_trained_model, string):\n",
    "    plt.plot(cnn_trained_model.history[string])\n",
    "    plt.plot(cnn_trained_model.history['val_'+string])\n",
    "    plt.xlabel(\"Epochs\")\n",
    "    plt.ylabel(string)\n",
    "    plt.legend([string, 'val_'+string])\n",
    "    plt.show()\n",
    "    \n",
    "    \n",
    "  #Plot the accuracy and loss\n",
    "plot_graphs(cnn_trained_model, \"accuracy\")\n",
    "plot_graphs(cnn_trained_model, \"loss\")"
   ]
  },
  {
   "cell_type": "code",
   "execution_count": 52,
   "id": "d9fb1355",
   "metadata": {},
   "outputs": [
    {
     "name": "stdout",
     "output_type": "stream",
     "text": [
      "Validation: 0.866, Test: 0.952\n"
     ]
    }
   ],
   "source": [
    "_, val_acc = cnn_model.evaluate(X_val_images, y_val_labels, verbose=0)\n",
    "_, test_acc = cnn_model.evaluate(test_images, test_labels_binary, verbose=0)\n",
    "print('Validation: %.3f, Test: %.3f' % (val_acc, test_acc))"
   ]
  },
  {
   "cell_type": "markdown",
   "id": "9585a768",
   "metadata": {},
   "source": [
    "### Saving the model monitoring accuracy and loss"
   ]
  },
  {
   "cell_type": "code",
   "execution_count": null,
   "id": "8e716b22",
   "metadata": {},
   "outputs": [],
   "source": [
    "# Save the best model with early stopping and checkpoint\n",
    "es = EarlyStopping(monitor='val_loss', mode='min', verbose=1, patience=20)\n",
    "mc = ModelCheckpoint('../SeekThermal/cnn_best_model.h5', monitor='val_accuracy', mode='max', verbose=0, patience=10, save_best_only=True)\n",
    "# fit model\n",
    "history = cnn_model.fit(X_train_images, y_train_labels,  validation_data=(X_val_images, y_val_labels), verbose=0, epochs=120, callbacks=[es, mc])\n",
    "# load the saved model\n",
    "saved_model = load_model('../SeekThermal/cnn_best_model.h5')\n",
    "# evaluate the model\n",
    "_, train_acc = saved_model.evaluate(X_train_images, y_train_labels, verbose=0)\n",
    "_, test_acc = saved_model.evaluate(test_images, test_labels_binary, verbose=0)\n",
    "print('Train: %.3f, Test: %.3f' % (train_acc, test_acc))"
   ]
  }
 ],
 "metadata": {
  "kernelspec": {
   "display_name": "Python 3 (ipykernel)",
   "language": "python",
   "name": "python3"
  },
  "language_info": {
   "codemirror_mode": {
    "name": "ipython",
    "version": 3
   },
   "file_extension": ".py",
   "mimetype": "text/x-python",
   "name": "python",
   "nbconvert_exporter": "python",
   "pygments_lexer": "ipython3",
   "version": "3.8.8"
  }
 },
 "nbformat": 4,
 "nbformat_minor": 5
}
